{
 "metadata": {
  "language_info": {
   "codemirror_mode": {
    "name": "ipython",
    "version": 3
   },
   "file_extension": ".py",
   "mimetype": "text/x-python",
   "name": "python",
   "nbconvert_exporter": "python",
   "pygments_lexer": "ipython3",
   "version": "3.7.9"
  },
  "orig_nbformat": 2,
  "kernelspec": {
   "name": "python3",
   "display_name": "Python 3.7.9 64-bit",
   "metadata": {
    "interpreter": {
     "hash": "0600588c3b5f4418cbe7b5ebc6825b479f3bc010269d8b60d75058cdd010adfe"
    }
   }
  }
 },
 "nbformat": 4,
 "nbformat_minor": 2,
 "cells": [
  {
   "cell_type": "code",
   "execution_count": 1,
   "metadata": {},
   "outputs": [],
   "source": [
    "import socket\n",
    "s = socket.socket(socket.AF_INET, socket.SOCK_STREAM)\n",
    "s.bind((socket.gethostname(), 9620))"
   ]
  },
  {
   "cell_type": "code",
   "execution_count": 2,
   "metadata": {},
   "outputs": [
    {
     "output_type": "stream",
     "name": "stdout",
     "text": [
      "Connection from ('192.168.33.1', 65236) has been established with client.\n",
      "hi\n",
      "Connection from ('192.168.33.1', 65244) has been established with client.\n",
      "hello\n"
     ]
    }
   ],
   "source": [
    "s.listen(5)\n",
    "while True:\n",
    "    clientsocket, address = s.accept()\n",
    "    print(f\"Connection from {address} has been established with client.\")\n",
    "    dataFromClient = clientsocket.recv(1024)\n",
    "    print(dataFromClient.decode())\n",
    "    clientsocket.send(bytes(\"connection is successfull\",\"utf-8\"))\n",
    "    clientsocket.close()"
   ]
  },
  {
   "cell_type": "code",
   "execution_count": null,
   "metadata": {},
   "outputs": [],
   "source": []
  }
 ]
}